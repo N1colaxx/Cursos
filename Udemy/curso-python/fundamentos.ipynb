{
 "cells": [
  {
   "cell_type": "markdown",
   "id": "072f897d",
   "metadata": {},
   "source": [
    "## 📚 Guia de Fundamentos de Python para Iniciantes\n",
    "\n",
    "### 📌 Índice\n",
    "1. [Fundamentos](#fundamentos)\n",
    "   - Tipos de Dados\n",
    "   - Variáveis\n",
    "2. [Operadores](#operadores)\n",
    "   - Aritméticos\n",
    "   - Comparação\n",
    "   - Lógicos\n",
    "3. [Estruturas de Dados](#estruturas-de-dados)\n",
    "4. [Conversão de Tipos](#conversão-de-tipos)\n",
    "5. [Funções Built-in](#funções-built-in)"
   ]
  },
  {
   "cell_type": "markdown",
   "id": "740b09c4",
   "metadata": {},
   "source": [
    "<br>\n",
    "\n",
    "***\n",
    "\n",
    "<br>\n",
    "\n",
    "### 🧠 Fundamentos\n",
    "\n",
    "\n",
    "Python trabalha com tipos por referência e não por valor. Isso significa que variáveis apontam para objetos na memória, não contêm os valores diretamente.\n"
   ]
  },
  {
   "cell_type": "markdown",
   "id": "cd5cde4e",
   "metadata": {},
   "source": [
    "\n",
    "####  Tipos Primitivos: \n"
   ]
  },
  {
   "cell_type": "code",
   "execution_count": 11,
   "id": "6136b623",
   "metadata": {},
   "outputs": [
    {
     "name": "stdout",
     "output_type": "stream",
     "text": [
      "19 <class 'int'>\n",
      "1.75 <class 'float'>\n",
      "True <class 'bool'>\n",
      "Nicolas <class 'str'>\n",
      "(2+3j) <class 'complex'>\n",
      "b'abc' <class 'bytes'>\n",
      "bytearray(b'abc') <class 'bytearray'>\n",
      "None <class 'NoneType'>\n"
     ]
    }
   ],
   "source": [
    "\n",
    "# int\n",
    "idade = 19\n",
    "print(idade, type(idade))  # <class 'int'>\n",
    "\n",
    "# float\n",
    "altura = 1.75\n",
    "print(altura, type(altura))  # <class 'float'>\n",
    "\n",
    "# bool\n",
    "ativo = True\n",
    "print(ativo, type(ativo))  # <class 'bool'>\n",
    "\n",
    "# str\n",
    "nome = \"Nicolas\"\n",
    "print(nome, type(nome))  # <class 'str'>\n",
    "\n",
    "# complex\n",
    "z = 2 + 3j\n",
    "print(z, type(z))  # <class 'complex'>\n",
    "\n",
    "# bytes\n",
    "dados = b\"abc\"\n",
    "print(dados, type(dados))  # <class 'bytes'>\n",
    "\n",
    "# bytearray\n",
    "buffer = bytearray(b\"abc\")\n",
    "print(buffer, type(buffer))  # <class 'bytearray'>\n",
    "\n",
    "# NoneType\n",
    "nada = None\n",
    "print(nada, type(nada))  # <class 'NoneType'>\n",
    "\n",
    "#__________________________________________________\n",
    "# | Tipo      | Nome em Python | Exemplo          |\n",
    "# |-----------|----------------|------------------|\n",
    "# | Inteiro   | `int`          | `idade = 20`     |\n",
    "# | Decimal   | `float`        | `peso = 68.5`    |\n",
    "# | Texto     | `str`          | `nome = \"Ana\"`   |\n",
    "# | Booleano  | `bool`         | `ativo = True`   |\n"
   ]
  },
  {
   "cell_type": "markdown",
   "id": "f30524ad",
   "metadata": {},
   "source": [
    "\n",
    "\n",
    "\n",
    "<h5> Tipos Nativos "
   ]
  },
  {
   "cell_type": "code",
   "execution_count": 14,
   "id": "ff30e0ea",
   "metadata": {},
   "outputs": [
    {
     "name": "stdout",
     "output_type": "stream",
     "text": [
      "[1, 2, 3] <class 'list'>\n",
      "(1, 2, 3) <class 'tuple'>\n",
      "{1, 2, 3} <class 'set'>\n",
      "{'nome': 'Nicolas', 'idade': 19} <class 'dict'>\n",
      "[0, 1, 2, 3, 4] <class 'range'>\n"
     ]
    }
   ],
   "source": [
    "\n",
    "# list\n",
    "lista = [1, 2, 3]\n",
    "print(lista, type(lista))  # <class 'list'>\n",
    "\n",
    "# tuple\n",
    "tupla = (1, 2, 3)\n",
    "print(tupla, type(tupla))  # <class 'tuple'>\n",
    "\n",
    "# set\n",
    "conjunto = {1, 2, 3}\n",
    "print(conjunto, type(conjunto))  # <class 'set'>\n",
    "\n",
    "# dict\n",
    "dicionario = {\"nome\": \"Nicolas\", \"idade\": 19}\n",
    "print(dicionario, type(dicionario))  # <class 'dict'>\n",
    "\n",
    "# range\n",
    "intervalo = range(5)\n",
    "print(list(intervalo), type(intervalo))  # <class 'range'>\n"
   ]
  },
  {
   "cell_type": "markdown",
   "id": "be259bba",
   "metadata": {},
   "source": [
    "<br>\n",
    "\n",
    "***\n",
    "\n",
    "<br>\n",
    "\n",
    "\n",
    "### 🧠 O que é uma variável?"
   ]
  },
  {
   "cell_type": "code",
   "execution_count": 13,
   "id": "8b592356",
   "metadata": {},
   "outputs": [],
   "source": [
    "# Uma variável é como uma “caixinha” com um nome, que guarda algum valor.\n",
    "\n",
    "nome = \"Nicolas\"\n",
    "idade = 19\n",
    "altura = 1.75\n"
   ]
  },
  {
   "cell_type": "markdown",
   "id": "cfd67778",
   "metadata": {},
   "source": [
    "📌 Regras para criar variáveis\n",
    "-   Podem conter letras, números e underline (_)\n",
    "\n",
    "-   Devem começar com letra ou _\n",
    "\n",
    "-   Não podem começar com número\n",
    "\n",
    "-   Não podem ter espaços\n",
    "\n",
    "-   Não podem usar palavras reservadas do Python (ex: if, while, def, etc.)"
   ]
  },
  {
   "cell_type": "code",
   "execution_count": 20,
   "id": "bac619fd",
   "metadata": {},
   "outputs": [
    {
     "name": "stdout",
     "output_type": "stream",
     "text": [
      "Nome: Ana\n",
      "Idade: 20\n",
      "Peso: 55.6\n"
     ]
    }
   ],
   "source": [
    "# ✅ válidas\n",
    "meu_nome = \"Ana\"\n",
    "_idade = 20\n",
    "peso1 = 55.6\n",
    "\n",
    "print('Nome:', meu_nome)\n",
    "print('Idade:', _idade)\n",
    "print('Peso:', peso1)\n",
    "\n",
    "# ❌ inválidas\n",
    "# 1peso = 70        # começa com número\n",
    "# meu nome = \"João\" # contém espaço\n",
    "# def = 3           # 'def' é palavra reservada\n"
   ]
  },
  {
   "cell_type": "markdown",
   "id": "e2485e5d",
   "metadata": {},
   "source": [
    "<br>\n",
    "\n",
    "***\n",
    "\n",
    "<br>\n",
    "\n",
    "\n",
    "### 🌀 Python tem tipagem dinâmica\n",
    "Você não precisa dizer o tipo da variável — o Python adivinha sozinho:"
   ]
  },
  {
   "cell_type": "code",
   "execution_count": 22,
   "id": "730e58bf",
   "metadata": {},
   "outputs": [
    {
     "name": "stdout",
     "output_type": "stream",
     "text": [
      "Nome: Maria\n",
      "Idade: 18\n",
      "Altura: 1.65\n"
     ]
    }
   ],
   "source": [
    "nome = \"Maria\"   # str\n",
    "idade = 18       # int\n",
    "altura = 1.65    # float\n",
    "print('Nome:', nome)\n",
    "print('Idade:', idade)\n",
    "print('Altura:', altura)\n"
   ]
  },
  {
   "cell_type": "markdown",
   "id": "45056180",
   "metadata": {},
   "source": [
    "<br>\n",
    "\n",
    "***\n",
    "\n",
    "<br>\n",
    "\n",
    "\n",
    "### ✏️ Operadores Aritméticos em Python"
   ]
  },
  {
   "cell_type": "markdown",
   "id": "68aa12d7",
   "metadata": {},
   "source": [
    "    Operador        | Símbolo       | Exemplo       | Resultado         | Descrição\n",
    "    Soma            |   +           |   2 + 3       |       5           | Adição\n",
    "    Subtração       |   -           |   5 - 2       |       3           | Subtração\n",
    "    Multiplicação   |   *           |   4 * 3       |       12          | Multiplicação\n",
    "    Divisão         |   /           |   10 / 2      |       5.0         | Divisão (sempre float)\n",
    "    Divisão inteira |   //          |   10 // 3     |       3           | Divide e arredonda pra baixo\n",
    "    Módulo          |   %           |   10 % 3      |       1           | Resto da divisão\n",
    "    Exponenciação   |   **          |   2 ** 3      |       8           | Potência (2³ = 8)"
   ]
  },
  {
   "cell_type": "code",
   "execution_count": 1,
   "id": "aac6b7e0",
   "metadata": {},
   "outputs": [
    {
     "name": "stdout",
     "output_type": "stream",
     "text": [
      "Soma: 13\n",
      "Subtração: 7\n",
      "Multiplicação: 30\n",
      "Divisão: 3.3333333333333335\n",
      "Divisão inteira: 3\n",
      "Resto da divisão (módulo): 1\n",
      "Potência: 1000\n"
     ]
    }
   ],
   "source": [
    "a = 10\n",
    "b = 3\n",
    "\n",
    "print(\"Soma:\", a + b)\n",
    "print(\"Subtração:\", a - b)\n",
    "print(\"Multiplicação:\", a * b)\n",
    "print(\"Divisão:\", a / b)\n",
    "print(\"Divisão inteira:\", a // b)\n",
    "print(\"Resto da divisão (módulo):\", a % b)\n",
    "print(\"Potência:\", a ** b)\n"
   ]
  },
  {
   "cell_type": "markdown",
   "id": "ede84dce",
   "metadata": {},
   "source": [
    "<br>\n",
    "\n",
    "🧠 Extras legais:\n",
    "\n",
    "Você pode usar parênteses pra controlar a ordem:\n"
   ]
  },
  {
   "cell_type": "code",
   "execution_count": 4,
   "id": "64308c2e",
   "metadata": {},
   "outputs": [
    {
     "name": "stdout",
     "output_type": "stream",
     "text": [
      "20\n"
     ]
    }
   ],
   "source": [
    "resultado = (2 + 3) * 4  # 5 * 4 = 20\n",
    "print (resultado)\n",
    "\n",
    "# Cuidado com:\n",
    "# Divisão por zero: 10 / 0 dá erro!\n",
    "# Resultado da divisão com / sempre será float, mesmo se der um número inteiro."
   ]
  },
  {
   "cell_type": "markdown",
   "id": "d368e908",
   "metadata": {},
   "source": [
    "<br>\n",
    "\n",
    "***\n",
    "\n",
    "<br>\n",
    "\n",
    "\n",
    "### ✏️ Operadores Relacionais em Python"
   ]
  },
  {
   "cell_type": "markdown",
   "id": "eaf41a72",
   "metadata": {},
   "source": [
    "    Operador        | Símbolo       | Exemplo        | Resultado     | Descrição\n",
    "    Igualdade       |   ==          |   5 == 5       |   True        | Verifica se os valores são iguais\n",
    "    Diferença       |   !=          |   5 != 3       |   True        | Verifica se os valores são diferentes\n",
    "    Maior que       |   >           |   7 > 2        |   True        | Verifica se o valor da esquerda é maior\n",
    "    Menor que       |   <           |   4 < 1        |   False       | Verifica se o valor da esquerda é menor\n",
    "    Maior ou igual  |   >=          |   5 >= 5       |   True        | Verifica se o valor da esquerda é maior ou igual\n",
    "    Menor ou igual  |   <=          |   3 <= 2       |   False       | Verifica se o valor da esquerda é menor ou igual\n"
   ]
  },
  {
   "cell_type": "code",
   "execution_count": 5,
   "id": "f6a39655",
   "metadata": {},
   "outputs": [
    {
     "name": "stdout",
     "output_type": "stream",
     "text": [
      "a == b: False\n",
      "a != b: True\n",
      "a > b: True\n",
      "a < b: False\n",
      "a >= b: True\n",
      "a <= b: False\n"
     ]
    }
   ],
   "source": [
    "a = 10\n",
    "b = 5\n",
    "\n",
    "print(\"a == b:\", a == b)    # False\n",
    "print(\"a != b:\", a != b)    # True\n",
    "print(\"a > b:\", a > b)      # True\n",
    "print(\"a < b:\", a < b)      # False\n",
    "print(\"a >= b:\", a >= b)    # True\n",
    "print(\"a <= b:\", a <= b)    # False\n"
   ]
  },
  {
   "cell_type": "markdown",
   "id": "07a233b0",
   "metadata": {},
   "source": [
    "<br>\n",
    "\n",
    "🧠 Dica:\n",
    "\n",
    "Esses operadores são muito usados em condições (como if, while, etc):"
   ]
  },
  {
   "cell_type": "code",
   "execution_count": 6,
   "id": "be319952",
   "metadata": {},
   "outputs": [
    {
     "name": "stdout",
     "output_type": "stream",
     "text": [
      "Maior de idade\n"
     ]
    }
   ],
   "source": [
    "idade = 18\n",
    "\n",
    "if idade >= 18:\n",
    "    print(\"Maior de idade\")\n",
    "else:\n",
    "    print(\"Menor de idade\")\n"
   ]
  },
  {
   "cell_type": "markdown",
   "id": "bf18d37e",
   "metadata": {},
   "source": [
    "<br>\n",
    "\n",
    "***\n",
    "\n",
    "<br>\n",
    "\n",
    "\n",
    "### ✏️ Operadores Atribuição em Python"
   ]
  },
  {
   "cell_type": "markdown",
   "id": "bb961c34",
   "metadata": {},
   "source": [
    "    Operador                     | Símbolo       | Exemplo        | Resultado     | Descrição\n",
    "    Atribuição simples           |    =          |   x = 5        |   x = 5       | Atribui o valor à variável\n",
    "    Soma e atribuição            |   +=          |   x += 3       |   x = x + 3   | Soma e atualiza o valor\n",
    "    Subtração e atribuição       |   -=          |   x -= 2       |   x = x - 2   | Subtrai e atualiza o valor\n",
    "    Multiplicação e atribuição   |   *=          |   x *= 4       |   x = x * 4   | Multiplica e atualiza\n",
    "    Divisão e atribuição         |   /=          |   x /= 2       |   x = x / 2   | Divide e atualiza (float)\n",
    "    Divisão inteira e atribuição |   //=         |   x //= 2      |   x = x // 2  | Divide (inteira) e atualiza\n",
    "    Módulo e atribuição          |   %=          |   x %= 3       |   x = x % 3   | Atribui o resto da divisão\n",
    "    Exponenciação e atribuição   |   **=         |   x **= 2      |   x = x ** 2  | Eleva à potência e atualiza\n"
   ]
  },
  {
   "cell_type": "markdown",
   "id": "98ecf08c",
   "metadata": {},
   "source": [
    "<br>\n",
    "\n",
    "***\n",
    "\n",
    "<br>\n",
    "\n",
    "### ✏️ Operadores Lógicos"
   ]
  },
  {
   "cell_type": "markdown",
   "id": "564c4749",
   "metadata": {},
   "source": [
    "    Operador        | Símbolo  | Exemplo            |\n",
    "    E lógico (and)  |   and    |   x > 5 and y < 10 |\n",
    "    OU lógico (or)  |   or     |   x > 5 or y < 10  |\n",
    "    Negação (not)   |   not    |   not(x > 5)       |\n",
    "    \n",
    "    Resultado ==> True/False\n",
    "    Descrição:\n",
    "        AND = Retorna True se ambas as condições forem verdadeiras\n",
    "        OR  = Retorna True se uma das condições for verdadeira\n",
    "        NOT = Inverte o valor lógico da condição\n"
   ]
  },
  {
   "cell_type": "markdown",
   "id": "57c6ff8a",
   "metadata": {},
   "source": [
    "<br>\n",
    "\n",
    "***\n",
    "\n",
    "<br>\n",
    "\n",
    "\n",
    "### ✏️Operadores de Identidade"
   ]
  },
  {
   "cell_type": "markdown",
   "id": "34713a86",
   "metadata": {},
   "source": [
    "    Operador    ==> Igualdade de identidade  e Diferença de identidade\n",
    "    Símbolo     ==> **is** | **is not** \n",
    "    Exemplo     ==> x is y | x is not y   \n",
    "    \n",
    "    Resultado   ==> True/False \n",
    "    Descrição   ==> IS = Retorna True se as variáveis se referem ao mesmo objeto na memória \n",
    "    DEscrição   ==> IS NOT = Retorna True se as variáveis não se referem ao mesmo objeto na memória\n"
   ]
  },
  {
   "cell_type": "markdown",
   "id": "e7ede37e",
   "metadata": {},
   "source": [
    "<br>\n",
    "\n",
    "***\n",
    "\n",
    "<br>\n",
    "\n",
    "\n",
    "### ✏️ Operadores de Associação"
   ]
  },
  {
   "cell_type": "markdown",
   "id": "700b79fa",
   "metadata": {},
   "source": [
    "    Operador             | Símbolo       | Exemplo              | \n",
    "    -------------------- | ------------- | -------------------- |\n",
    "    Pertence (in)        |     in        |   x in [1, 2, 3]     |\n",
    "    Não pertence (not in)|   not in      |   x not in [1, 2, 3] |\n",
    "    \n",
    "    Resultado ==> True/False  \n",
    "    Descrição:\n",
    "        IN = Retorna True se o valor estiver presente na sequência (lista, tupla, etc.)\n",
    "        NOT IN = Retorna True se o valor não estiver presente na sequência\n"
   ]
  },
  {
   "cell_type": "markdown",
   "id": "634dcf85",
   "metadata": {},
   "source": [
    "<br>"
   ]
  },
  {
   "cell_type": "markdown",
   "id": "7292a10c",
   "metadata": {},
   "source": [
    "<br>\n",
    "\n",
    "***\n",
    "\n",
    "<br>\n",
    "\n",
    "\n",
    "### ✏️ Operadores Unários\n",
    "\n",
    "Os operadores unários são usados para manipular um único operando."
   ]
  },
  {
   "cell_type": "markdown",
   "id": "3c921504",
   "metadata": {},
   "source": [
    "    Operador              | Símbolo      | Exemplo      | Resultado    | Descrição\n",
    "    -----------------     | ------------ | ------------ | ------------ | ----------------------------------------------\n",
    "    Negação               |     -        |   -x         |     -5       | Inverte o sinal do valor (nega o número)\n",
    "    Positivo              |     +        |   +x         |     5        | Retorna o valor positivo de x\n",
    "    Complemento bit a bit |     ~        |   ~x         |     -6       | Inverte os bits do valor\n",
    "\n",
    "    Incremento  |     ++  |   Não existe no Python | Não aplicável | Não é diretamente suportado em Python\n",
    "    Decremento  |     --  |   Não existe no Python | Não aplicável | Não é diretamente suportado em Python\n"
   ]
  },
  {
   "cell_type": "markdown",
   "id": "98c5b961",
   "metadata": {},
   "source": [
    "<br>\n",
    "\n",
    "***\n",
    "\n",
    "<br>\n",
    "\n",
    "\n",
    "###  ✏️ Operadores Ternários\n",
    "\n",
    "O operador ternário em Python é uma forma compacta de expressar uma condicional if-else."
   ]
  },
  {
   "cell_type": "markdown",
   "id": "350b7db2",
   "metadata": {},
   "source": [
    "    Operador    ==> Ternário \n",
    "    Símbolo     ==> Condição if cond else\n",
    "    Exemplo     ==> res = \"Maior\" if idade >= 18 else \"Menor\"\n",
    "    Resultado   ==> \"Maior\" ou \"Menor\" \n",
    "    Descrição   ==> Avalia uma condição e retorna um valor baseado nela"
   ]
  },
  {
   "cell_type": "markdown",
   "id": "c2f15395",
   "metadata": {},
   "source": [
    "<br>\n",
    "\n",
    "***\n",
    "\n",
    "<br>\n",
    "\n",
    "\n",
    "### 🧠 Funções Built-in"
   ]
  },
  {
   "cell_type": "markdown",
   "id": "7232099d",
   "metadata": {},
   "source": [
    "    Função               | Símbolo       | Exemplo                 | \n",
    "    -------------------- | ------------- | ----------------------- |\n",
    "    Impressão            |   print()     | print(\"Olá, Mundo!\")    |\n",
    "    Tipo                 |   type()      | type(42)                |\n",
    "    Tamanho              |   len()       | len(\"Python\")           |\n",
    "    Entrada              |   input()     | nome = input(\"Nome: \")  |\n",
    "    Máximo               |   max()       | max([1, 2, 3])          |\n",
    "    Mínimo               |   min()       | min([1, 2, 3])          |\n",
    "    Conversão p/ str     |   str()       | str(123)                |\n",
    "    Conversão p/ int     |   int()       | int(\"42\")               |\n",
    "    Conversão p/ float   |   float()     | float(\"3.14\")           |\n",
    "    Conversão p/ list    |   list()      | list(\"abc\")             |\n",
    "    Conversão p/ tuple   |   tuple()     | tuple([1, 2])           |\n",
    "    Conversão p/ set     |   set()       | set([1, 2, 2])          |\n",
    "\n",
    "\n",
    "Resultado ⇒ Depende da função (str, int, lista, número, etc.)\n",
    "\n",
    "Descrição:\n",
    "\n",
    "    print() → Imprime algo no console\n",
    "\n",
    "    type() → Retorna o tipo do valor\n",
    "\n",
    "    len() → Retorna o comprimento de uma sequência\n",
    "\n",
    "    input() → Recebe uma entrada do usuário (sempre como string)\n",
    "\n",
    "    max() → Retorna o maior valor de um iterável\n",
    "\n",
    "    min() → Retorna o menor valor de um iterável\n",
    "\n",
    "    str(), int(), float() → Fazem conversão de tipos\n",
    "\n",
    "    list(), tuple(), set() → Convertem para os respectivos tipos de coleção"
   ]
  },
  {
   "cell_type": "markdown",
   "id": "95d71573",
   "metadata": {},
   "source": [
    "<br>\n",
    "\n",
    "***\n",
    "\n",
    "<br>\n",
    "\n",
    "\n",
    "### 🔄 Conversão de Tipos (Type Casting)\n",
    "\n"
   ]
  },
  {
   "cell_type": "markdown",
   "id": "006305ef",
   "metadata": {},
   "source": [
    "    Função               | Exemplo           | Resultado       | Descrição\n",
    "    -------------------- | ----------------- | --------------- | -------------------------------------------------------\n",
    "    int()                | int(\"10\")         | 10              | Converte string ou float para inteiro\n",
    "    float()              | float(\"3.14\")     | 3.14            | Converte string ou inteiro para float\n",
    "    str()                | str(123)          | \"123\"           | Converte número ou outro tipo para string\n",
    "    bool()               | bool(0)           | False           | Converte valor para booleano (0, '', None = False)\n",
    "    list()               | list(\"abc\")       | ['a', 'b', 'c'] | Converte iterável para lista\n",
    "    tuple()              | tuple([1, 2])     | (1, 2)          | Converte iterável para tupla\n",
    "    set()                | set([1, 2, 2])    | {1, 2}          | Converte iterável para conjunto (remove duplicatas)\n",
    "    dict()               | dict([(\"a\", 1)])  | {'a': 1}        | Converte pares (chave, valor) em dicionário\n"
   ]
  },
  {
   "cell_type": "markdown",
   "id": "779ad7bd",
   "metadata": {},
   "source": [
    "<br>\n",
    "\n",
    "***\n",
    "\n",
    "<br>\n",
    "\n",
    "### 🧠 O que é Coerção Automática?\n",
    "\n",
    "Em Python, coerção automática acontece quando o próprio interpretador converte um tipo de dado para outro sem que o programador precise pedir isso explicitamente.\n",
    "\n",
    "Isso geralmente rola quando usamos operadores com tipos diferentes. Python tenta \"igualar\" os tipos para conseguir fazer a operação."
   ]
  },
  {
   "cell_type": "markdown",
   "id": "ea4f9db3",
   "metadata": {},
   "source": [
    "🔁 Exemplo clássico: int + float\n"
   ]
  },
  {
   "cell_type": "code",
   "execution_count": 7,
   "id": "543f44d8",
   "metadata": {},
   "outputs": [
    {
     "name": "stdout",
     "output_type": "stream",
     "text": [
      "12.5\n",
      "<class 'float'>\n"
     ]
    }
   ],
   "source": [
    "num_int = 10        # int\n",
    "num_float = 2.5     # float\n",
    "\n",
    "resultado = num_int + num_float\n",
    "print(resultado)    # 12.5\n",
    "print(type(resultado))  # <class 'float'>\n"
   ]
  },
  {
   "cell_type": "markdown",
   "id": "b7ef8030",
   "metadata": {},
   "source": [
    "➡️ O int (10) foi automaticamente convertido para float (10.0) pra fazer a soma com 2.5."
   ]
  },
  {
   "cell_type": "markdown",
   "id": "8f53d18c",
   "metadata": {},
   "source": [
    "<br>\n",
    "\n",
    "#### 🚫 O que não funciona com coerção automática?\n",
    "\n",
    "Python não faz coerção automática entre strings e números."
   ]
  },
  {
   "cell_type": "code",
   "execution_count": null,
   "id": "e9d4acd5",
   "metadata": {},
   "outputs": [],
   "source": [
    "x = '10'\n",
    "y = 5\n",
    "print (x + y)  # ❌ TypeError: can only concatenate str (not \"int\") to str\n"
   ]
  },
  {
   "cell_type": "markdown",
   "id": "dbffb8b6",
   "metadata": {},
   "source": [
    "✔️ Nesse caso, você precisa fazer a conversão explícita, tipo:\n"
   ]
  },
  {
   "cell_type": "code",
   "execution_count": 10,
   "id": "77f7ddd2",
   "metadata": {},
   "outputs": [
    {
     "name": "stdout",
     "output_type": "stream",
     "text": [
      "15\n"
     ]
    }
   ],
   "source": [
    "print(int(x) + y)  # ✅ 15\n"
   ]
  },
  {
   "cell_type": "markdown",
   "id": "decca39a",
   "metadata": {},
   "source": [
    "<br>\n",
    "\n",
    "✔️ Dica de ouro:\n",
    "\n",
    "Evite confiar demais na coerção implícita. Às vezes ela pode causar comportamentos inesperados, especialmente com tipos como bool ou None."
   ]
  },
  {
   "cell_type": "markdown",
   "id": "f0deae9f",
   "metadata": {},
   "source": [
    "<br>\n",
    "\n",
    "***\n",
    "\n",
    "<br>\n",
    "\n",
    "### 🔢 Números em Python (int, float, complex)"
   ]
  },
  {
   "cell_type": "markdown",
   "id": "78b4557d",
   "metadata": {},
   "source": [
    "<br>\n",
    "\n",
    "Basico:"
   ]
  },
  {
   "cell_type": "code",
   "execution_count": 13,
   "id": "c7797b68",
   "metadata": {},
   "outputs": [],
   "source": [
    "# Inteiros\n",
    "idade = 25  # int\n",
    "\n",
    "# Decimais\n",
    "preco = 19.90  # float\n",
    "\n",
    "# Complexos\n",
    "z = 3 + 4j  # complex"
   ]
  },
  {
   "cell_type": "markdown",
   "id": "7c042a56",
   "metadata": {},
   "source": [
    "<br>\n",
    "\n",
    "Avançado:"
   ]
  },
  {
   "cell_type": "code",
   "execution_count": null,
   "id": "6e7c561d",
   "metadata": {},
   "outputs": [],
   "source": [
    "\n",
    "# Sys.maxsize: Maior valor inteiro (antes de virar long)\n",
    "import sys\n",
    "print(sys.maxsize)  # 9223372036854775807\n",
    "\n",
    "\n",
    "#Precisão decimal:\n",
    "from decimal import Decimal\n",
    "preciso = Decimal('0.1') + Decimal('0.2')  # 0.3 (exato)\n",
    "\n",
    "\n",
    "# Operações bitwise:\n",
    "x = 10  # 1010\n",
    "print(x << 1)  # 20 (deslocamento de bits)"
   ]
  },
  {
   "cell_type": "markdown",
   "id": "e8c2753b",
   "metadata": {},
   "source": [
    "<br>\n",
    "\n",
    "***\n",
    "\n",
    "<br>\n",
    "\n",
    "### 📜 Strings\n"
   ]
  },
  {
   "cell_type": "markdown",
   "id": "2738a28d",
   "metadata": {},
   "source": [
    "<br>\n",
    "\n",
    "Básico:"
   ]
  },
  {
   "cell_type": "code",
   "execution_count": null,
   "id": "2fa727fc",
   "metadata": {},
   "outputs": [],
   "source": [
    "nome = \"Python\"\n",
    "print(nome[0])  # 'P' - indexação\n",
    "print(len(nome))  # 6 - tamanho"
   ]
  },
  {
   "cell_type": "markdown",
   "id": "1d346cdc",
   "metadata": {},
   "source": [
    "<br>\n",
    "\n",
    "Avançado:\n"
   ]
  },
  {
   "cell_type": "code",
   "execution_count": null,
   "id": "5243ed74",
   "metadata": {},
   "outputs": [],
   "source": [
    "#Métodos úteis:\n",
    "\"python\".capitalize()  # 'Python'\n",
    "\"a,b,c\".split(\",\")  # ['a', 'b', 'c']\n",
    "\n",
    "\n",
    "# Strings imutáveis:\n",
    "s = \"hello\"\n",
    "# s[0] = \"H\"  # Erro! Strings são imutáveis\n",
    "s = \"H\" + s[1:]  # Solução\n",
    "\n",
    "#Expressões regulares:\n",
    "import re\n",
    "re.match(r'\\d+', '123abc')  # Encontra números"
   ]
  },
  {
   "cell_type": "markdown",
   "id": "f464afa9",
   "metadata": {},
   "source": [
    "<br>\n",
    "\n",
    "***\n",
    "\n",
    "<br>\n",
    "\n",
    "### 📋 Listas"
   ]
  },
  {
   "cell_type": "markdown",
   "id": "e2de5a5d",
   "metadata": {},
   "source": [
    "<br>\n",
    "\n",
    "Básico:"
   ]
  },
  {
   "cell_type": "code",
   "execution_count": null,
   "id": "c8f16503",
   "metadata": {},
   "outputs": [],
   "source": [
    "frutas = [\"maçã\", \"banana\"]\n",
    "frutas.append(\"laranja\")\n",
    "print(frutas[1])  # banana"
   ]
  },
  {
   "cell_type": "markdown",
   "id": "71c73df6",
   "metadata": {},
   "source": [
    "<br>\n",
    "\n",
    "Avançado:"
   ]
  },
  {
   "cell_type": "code",
   "execution_count": null,
   "id": "7ac4f5f1",
   "metadata": {},
   "outputs": [],
   "source": [
    "# Compreensão de listas:\n",
    "quadrados = [x**2 for x in range(10)]\n",
    "\n",
    "\n",
    "#Copy vs Deepcopy:\n",
    "import copy\n",
    "lista = [[1,2], [3,4]]\n",
    "copia = copy.deepcopy(lista)  # Cópia completa\n",
    "\n",
    "\n",
    "#Performance:\n",
    "from collections import deque\n",
    "fila = deque()  # Mais eficiente para pop(0)"
   ]
  },
  {
   "cell_type": "markdown",
   "id": "25d78c30",
   "metadata": {},
   "source": [
    "<br>\n",
    "\n",
    "***\n",
    "\n",
    "<br>\n",
    "\n",
    "### 📦 Tuplas"
   ]
  },
  {
   "cell_type": "markdown",
   "id": "8d1f166d",
   "metadata": {},
   "source": [
    "<br>\n",
    "\n",
    "Basico:"
   ]
  },
  {
   "cell_type": "code",
   "execution_count": null,
   "id": "82d364fb",
   "metadata": {},
   "outputs": [],
   "source": [
    "coordenadas = (10.0, 20.5)\n",
    "print(coordenadas[0])  # 10.0"
   ]
  },
  {
   "cell_type": "markdown",
   "id": "263cc305",
   "metadata": {},
   "source": [
    "<br>\n",
    "\n",
    "Avançado:\n"
   ]
  },
  {
   "cell_type": "code",
   "execution_count": null,
   "id": "e6096b46",
   "metadata": {},
   "outputs": [],
   "source": [
    "#Namedtuple:\n",
    "from collections import namedtuple\n",
    "Pessoa = namedtuple('Pessoa', 'nome idade')\n",
    "p = Pessoa(\"Ana\", 25)\n",
    "\n",
    "\n",
    "#Imutabilidade:\n",
    "t = (1, [2, 3])  # A lista interna pode ser modificada!\n",
    "t[1].append(4)  # Válido"
   ]
  },
  {
   "cell_type": "markdown",
   "id": "a7668fc9",
   "metadata": {},
   "source": [
    "<br>\n",
    "\n",
    "***\n",
    "\n",
    "<br>\n",
    "\n",
    "### 📖 Dicionários"
   ]
  },
  {
   "cell_type": "markdown",
   "id": "19e17bad",
   "metadata": {},
   "source": [
    "<br>\n",
    "\n",
    "Basico:"
   ]
  },
  {
   "cell_type": "code",
   "execution_count": null,
   "id": "1e98cf9f",
   "metadata": {},
   "outputs": [],
   "source": [
    "pessoa = {\"nome\": \"Carlos\", \"idade\": 30}\n",
    "print(pessoa[\"nome\"])  # Carlos"
   ]
  },
  {
   "cell_type": "markdown",
   "id": "f9072a25",
   "metadata": {},
   "source": [
    "<br>\n",
    "\n",
    "Avançado:"
   ]
  },
  {
   "cell_type": "code",
   "execution_count": null,
   "id": "070db507",
   "metadata": {},
   "outputs": [],
   "source": [
    "# Operações matemáticas:\n",
    "a = {1, 2}; b = {2, 3}\n",
    "print(a | b)  # União: {1, 2, 3}\n",
    "\n",
    "#Frozenset:\n",
    "imutavel = frozenset([1, 2, 3])  # Conjunto imutável"
   ]
  },
  {
   "cell_type": "markdown",
   "id": "495c14ed",
   "metadata": {},
   "source": [
    "<br>\n",
    "\n",
    "***\n",
    "\n",
    "<br>\n",
    "\n",
    "### 🎨 Interpolação de Strings"
   ]
  },
  {
   "cell_type": "markdown",
   "id": "facfdf4b",
   "metadata": {},
   "source": [
    "<br>\n",
    "\n",
    "Basico:"
   ]
  },
  {
   "cell_type": "code",
   "execution_count": null,
   "id": "1dae04dc",
   "metadata": {},
   "outputs": [],
   "source": [
    "nome = \"Ana\"\n",
    "print(f\"Olá, {nome}!\")  # f-strings (Python 3.6+)"
   ]
  },
  {
   "cell_type": "markdown",
   "id": "2a12fda3",
   "metadata": {},
   "source": [
    "<br>\n",
    "\n",
    "Avançado:\n"
   ]
  },
  {
   "cell_type": "code",
   "execution_count": null,
   "id": "8d56269c",
   "metadata": {},
   "outputs": [],
   "source": [
    "#Expressões:\n",
    "print(f\"{5 * 5 = }\")  # '5 * 5 = 25'\n",
    "\n",
    "\n",
    "#Formatação:\n",
    "from math import pi\n",
    "print(f\"{pi:.3f}\")  # 3.142\n",
    "\n",
    "\n",
    "#Templates:\n",
    "from string import Template\n",
    "t = Template(\"Olá, $nome!\")\n",
    "print(t.substitute(nome=\"João\"))"
   ]
  },
  {
   "cell_type": "markdown",
   "id": "3ba7e4ad",
   "metadata": {},
   "source": [
    "#### Tópicos Especiais Adicionais:"
   ]
  },
  {
   "cell_type": "markdown",
   "id": "18ec6076",
   "metadata": {},
   "source": [
    "1. Memoryview (para bytes e bytearray)"
   ]
  },
  {
   "cell_type": "code",
   "execution_count": null,
   "id": "48a04398",
   "metadata": {},
   "outputs": [],
   "source": [
    "dados = bytearray(b'Python')\n",
    "view = memoryview(dados)\n",
    "print(view[0])  # 80 (ASCII para 'P')"
   ]
  },
  {
   "cell_type": "markdown",
   "id": "e5090a34",
   "metadata": {},
   "source": [
    "2. Enum (para constantes nomeadas)"
   ]
  },
  {
   "cell_type": "code",
   "execution_count": null,
   "id": "ae57ca43",
   "metadata": {},
   "outputs": [],
   "source": [
    "from enum import Enum\n",
    "class Cores(Enum):\n",
    "    VERMELHO = 1\n",
    "    VERDE = 2"
   ]
  },
  {
   "cell_type": "markdown",
   "id": "71c52b51",
   "metadata": {},
   "source": [
    "3. Dataclasses (Python 3.7+)"
   ]
  },
  {
   "cell_type": "code",
   "execution_count": null,
   "id": "2dae5f0f",
   "metadata": {},
   "outputs": [],
   "source": [
    "from dataclasses import dataclass\n",
    "@dataclass\n",
    "class Pessoa:\n",
    "    nome: str\n",
    "    idade: int"
   ]
  },
  {
   "cell_type": "markdown",
   "id": "5939618e",
   "metadata": {},
   "source": [
    "<br>\n",
    "\n",
    "***\n",
    "\n",
    "<br>\n",
    "\n",
    "### 🔍 dir() - Inspeção de Objetos"
   ]
  },
  {
   "cell_type": "markdown",
   "id": "38b8730d",
   "metadata": {},
   "source": [
    "\n",
    "<br>\n",
    "\n",
    "Básico:\n",
    "\n",
    "-   Lista atributos e métodos de um objeto\n",
    "\n",
    "-   Útil para descobrir funcionalidades sem consultar documentação"
   ]
  },
  {
   "cell_type": "code",
   "execution_count": null,
   "id": "07c7a9d5",
   "metadata": {},
   "outputs": [],
   "source": [
    "lista = [1, 2, 3]\n",
    "print(dir(lista))  # Mostra todos os métodos disponíveis"
   ]
  },
  {
   "cell_type": "markdown",
   "id": "0265a75f",
   "metadata": {},
   "source": [
    "<br>\n",
    "\n",
    "Avançado:"
   ]
  },
  {
   "cell_type": "code",
   "execution_count": null,
   "id": "fe0e19c5",
   "metadata": {},
   "outputs": [],
   "source": [
    "# Filtrando métodos úteis\n",
    "metodos = [m for m in dir(list) if not m.startswith('__')]\n",
    "print(metodos)  # ['append', 'clear', 'copy', ...]\n",
    "\n",
    "# Inspecionando módulos\n",
    "import math\n",
    "print(dir(math))  # Mostra todas as funções do módulo math"
   ]
  },
  {
   "cell_type": "markdown",
   "id": "9b7675c9",
   "metadata": {},
   "source": [
    "<br>\n",
    "\n",
    "***\n",
    "\n",
    "<br>\n",
    "\n",
    "### 🏷️ __ __name__ __ e __ __main__ __\n"
   ]
  },
  {
   "cell_type": "markdown",
   "id": "a8bcd088",
   "metadata": {},
   "source": [
    "<br>\n",
    "\n",
    "Básico:\n",
    "\n",
    "-   Padrão para identificar execução direta vs importação"
   ]
  },
  {
   "cell_type": "code",
   "execution_count": null,
   "id": "8f07ab54",
   "metadata": {},
   "outputs": [],
   "source": [
    "if __name__ == \"__main__\":\n",
    "    print(\"O script foi executado diretamente\")\n",
    "else:\n",
    "    print(\"O script foi importado como módulo\")"
   ]
  },
  {
   "cell_type": "markdown",
   "id": "6ef2fe78",
   "metadata": {},
   "source": [
    "<br>\n",
    "\n",
    "Avançado:\n"
   ]
  },
  {
   "cell_type": "code",
   "execution_count": null,
   "id": "690c7370",
   "metadata": {},
   "outputs": [],
   "source": [
    "# Estrutura profissional de um módulo Python:\n",
    "def funcao_principal():\n",
    "    print(\"Lógica principal\")\n",
    "\n",
    "def funcoes_auxiliares():\n",
    "    print(\"Código auxiliar\")\n",
    "\n",
    "if __name__ == \"__main__\":\n",
    "    # Testes/execução só ocorrem quando rodado diretamente\n",
    "    funcao_principal()"
   ]
  },
  {
   "cell_type": "markdown",
   "id": "85c17b6f",
   "metadata": {},
   "source": [
    "<br>\n",
    "\n",
    "***\n",
    "\n",
    "<br>\n",
    "\n",
    "### 🔮 Métodos Especiais (Dunder Methods)"
   ]
  },
  {
   "cell_type": "markdown",
   "id": "160779aa",
   "metadata": {},
   "source": [
    "<br>\n",
    "\n",
    "Básico:"
   ]
  },
  {
   "cell_type": "code",
   "execution_count": null,
   "id": "227d2e33",
   "metadata": {},
   "outputs": [],
   "source": [
    "class MinhaClasse:\n",
    "    def __init__(self, valor):\n",
    "        self.valor = valor\n",
    "    \n",
    "    def __str__(self):\n",
    "        return f\"Valor: {self.valor}\"\n",
    "\n",
    "obj = MinhaClasse(10)\n",
    "print(obj)  # Chama automaticamente __str__"
   ]
  },
  {
   "cell_type": "markdown",
   "id": "32d2ad12",
   "metadata": {},
   "source": [
    "<br>\n",
    "\n",
    "Avançado:\n",
    "\n",
    "-   Principais métodos mágicos e seus usos:"
   ]
  },
  {
   "cell_type": "code",
   "execution_count": null,
   "id": "c524068a",
   "metadata": {},
   "outputs": [],
   "source": [
    "#   Método\t            |   Uso\t                        |   Exemplo\n",
    "#-----------------------------------------------------------------------------------\n",
    "#   __init__\t        |   Inicialização\t            |   def __init__(self):\n",
    "#   __str__\t            |   Representação string\t    |   print(obj)\n",
    "#   __len__\t            |   Comportamento de length\t    |   len(obj)\n",
    "#   __getitem__\t        |   Indexação\t                |   obj[0]\n",
    "#   __call__\t        |   Tornar objeto callable\t    |   obj()\n",
    "#   __enter__/__exit__\t|   Gerenciador de contexto\t    |   with obj:\n"
   ]
  },
  {
   "cell_type": "markdown",
   "id": "3c975cdd",
   "metadata": {},
   "source": [
    "Exemplo prático:"
   ]
  },
  {
   "cell_type": "code",
   "execution_count": null,
   "id": "0e11e3ed",
   "metadata": {},
   "outputs": [],
   "source": [
    "class Vetor:\n",
    "    def __init__(self, *args):\n",
    "        self.elementos = args\n",
    "    \n",
    "    def __len__(self):\n",
    "        return len(self.elementos)\n",
    "    \n",
    "    def __getitem__(self, index):\n",
    "        return self.elementos[index]\n",
    "    \n",
    "    def __add__(self, outro):\n",
    "        return Vetor(*(x + y for x, y in zip(self.elementos, outro.elementos)))\n",
    "\n",
    "v1 = Vetor(1, 2)\n",
    "v2 = Vetor(3, 4)\n",
    "print(len(v1))  # 2\n",
    "print(v1[0])    # 1\n",
    "v3 = v1 + v2    # Vetor(4, 6)"
   ]
  },
  {
   "cell_type": "markdown",
   "id": "275b7fd0",
   "metadata": {},
   "source": [
    "<br>\n",
    "\n",
    "***\n",
    "\n",
    "<br>\n",
    "\n",
    "### 📦 __ all __ - Controle de Importações"
   ]
  },
  {
   "cell_type": "markdown",
   "id": "66c7e672",
   "metadata": {},
   "source": [
    "Basico:"
   ]
  },
  {
   "cell_type": "code",
   "execution_count": null,
   "id": "48e51771",
   "metadata": {},
   "outputs": [],
   "source": [
    "# No módulo meu_modulo.py:\n",
    "__all__ = ['funcao_publica', 'ClassePublica']\n",
    "\n",
    "def funcao_publica(): pass\n",
    "def _funcao_privada(): pass"
   ]
  },
  {
   "cell_type": "markdown",
   "id": "5271561e",
   "metadata": {},
   "source": [
    "<br>\n",
    "\n",
    "Avançado:\n",
    "\n",
    "-    Controla o que é importado com from modulo import *\n",
    "\n",
    "-    Convenção para APIs públicas vs internas\n",
    "\n",
    "-    Diferente de _nome (single underscore) que é convenção para privado"
   ]
  },
  {
   "cell_type": "markdown",
   "id": "9b5fc578",
   "metadata": {},
   "source": [
    "<br>\n",
    "\n",
    "***\n",
    "\n",
    "<br>\n",
    "\n",
    "### 🧰 __ file __ e __ package __"
   ]
  },
  {
   "cell_type": "markdown",
   "id": "4bcad7fa",
   "metadata": {},
   "source": [
    "Básico:"
   ]
  },
  {
   "cell_type": "code",
   "execution_count": null,
   "id": "94993a1b",
   "metadata": {},
   "outputs": [],
   "source": [
    "print(__file__)  # Caminho completo do script atual\n",
    "print(__package__)  # Pacote a que pertence (None para scripts)"
   ]
  },
  {
   "cell_type": "markdown",
   "id": "915357a7",
   "metadata": {},
   "source": [
    "<br>\n",
    "\n",
    "Avançado:\n",
    "\n",
    "-   Uso em módulos para caminhos relativos:"
   ]
  },
  {
   "cell_type": "code",
   "execution_count": null,
   "id": "634869e9",
   "metadata": {},
   "outputs": [],
   "source": [
    "import os\n",
    "DIRETORIO = os.path.dirname(os.path.abspath(__file__))\n",
    "ARQUIVO_CONFIG = os.path.join(DIRETORIO, 'config.ini')"
   ]
  },
  {
   "cell_type": "markdown",
   "id": "1c2cd38e",
   "metadata": {},
   "source": [
    "<br>\n",
    "\n",
    "***\n",
    "\n",
    "<br>\n",
    "\n",
    "### 🛠️ __ dict __ - Acesso aos Atributos"
   ]
  },
  {
   "cell_type": "markdown",
   "id": "805eafef",
   "metadata": {},
   "source": [
    "\n",
    "<br>Básico:"
   ]
  },
  {
   "cell_type": "code",
   "execution_count": null,
   "id": "adaf3d6c",
   "metadata": {},
   "outputs": [],
   "source": [
    "class Pessoa:\n",
    "    def __init__(self, nome):\n",
    "        self.nome = nome\n",
    "\n",
    "p = Pessoa(\"Ana\")\n",
    "print(p.__dict__)  # {'nome': 'Ana'}"
   ]
  },
  {
   "cell_type": "markdown",
   "id": "bd05c702",
   "metadata": {},
   "source": [
    "<br>Avançado:\n",
    "\n",
    "-   Dinamicamente adicionando atributos:"
   ]
  },
  {
   "cell_type": "code",
   "execution_count": null,
   "id": "07428ac4",
   "metadata": {},
   "outputs": [],
   "source": [
    "p.__dict__['idade'] = 30\n",
    "print(p.idade)  # 30"
   ]
  },
  {
   "cell_type": "markdown",
   "id": "14ea392f",
   "metadata": {},
   "source": [
    "-    Diferença entre __ dict __ e vars():"
   ]
  },
  {
   "cell_type": "code",
   "execution_count": null,
   "id": "10c665d9",
   "metadata": {},
   "outputs": [],
   "source": [
    "vars(p) is p.__dict__  # True (vars() chama __dict__ internamente)"
   ]
  },
  {
   "cell_type": "markdown",
   "id": "615477f6",
   "metadata": {},
   "source": [
    "<br>\n",
    "\n",
    "***\n",
    "\n",
    "<br>\n",
    "\n",
    "### 🔄 __import__() - Importação Dinâmica"
   ]
  },
  {
   "cell_type": "markdown",
   "id": "620096c2",
   "metadata": {},
   "source": [
    "<br>Uso Avançado:"
   ]
  },
  {
   "cell_type": "code",
   "execution_count": null,
   "id": "c13ea550",
   "metadata": {},
   "outputs": [],
   "source": [
    "modulo = __import__('math')\n",
    "print(modulo.sqrt(4))  # 2.0"
   ]
  },
  {
   "cell_type": "markdown",
   "id": "08bea382",
   "metadata": {},
   "source": [
    "-   Alternativa moderna (Python 3.4+):"
   ]
  },
  {
   "cell_type": "code",
   "execution_count": null,
   "id": "cd601603",
   "metadata": {},
   "outputs": [],
   "source": [
    "import importlib\n",
    "math = importlib.import_module('math')"
   ]
  },
  {
   "cell_type": "markdown",
   "id": "194c9109",
   "metadata": {},
   "source": [
    "<br>\n",
    "\n",
    "***\n",
    "\n",
    "<br>\n",
    "\n",
    "### Padrões Recomendados"
   ]
  },
  {
   "cell_type": "markdown",
   "id": "c571bc3e",
   "metadata": {},
   "source": [
    "Padrões Recomendados\n",
    "1. if __ name __ == \"__ main __\":\n",
    "\n",
    "    -   Sempre use para código executável\n",
    "\n",
    "    -   Permite teste e uso como módulo\n",
    "\n",
    "2. dir() **para Debug**:\n",
    "\n",
    "    -   Primeira ferramenta para explorar objetos desconhecidos\n",
    "\n",
    "3. **Dunder Methods**:\n",
    "\n",
    "    -   Implemente para criar APIs intuitivas\n",
    "\n",
    "    -   Mantenha consistência com comportamentos built-in\n",
    "\n",
    "4. __ all __ **para módulos**:\n",
    "\n",
    "    -   Documente explicitamente a API pública\n",
    "\n",
    "    -   Facilita a manutenção"
   ]
  },
  {
   "cell_type": "markdown",
   "id": "bd4f925e",
   "metadata": {},
   "source": [
    "<br>\n",
    "\n",
    "***\n",
    "\n",
    "<br>\n",
    "\n",
    "### Desafio SET\n",
    "\n",
    "O desafio desse código é verificar se um conjunto de textos contém palavras proibidas de uma lista pré-definida.\n",
    "\n",
    "PALAVRAS_PROIBIDAS = {'futebol', 'religião', 'política'}"
   ]
  },
  {
   "cell_type": "code",
   "execution_count": 2,
   "id": "48764cc6",
   "metadata": {},
   "outputs": [
    {
     "name": "stdout",
     "output_type": "stream",
     "text": [
      "Texto 1 contém palavras proibidas, palavras: futebol, política\n",
      "Texto 2 está OK\n"
     ]
    }
   ],
   "source": [
    "# Conjunto de palavras proibidas\n",
    "PALAVRAS_PROIBIDAS = {'futebol', 'religião', 'política'}\n",
    "\n",
    "# Lista de textos a serem verificados\n",
    "textos = [\n",
    "    'João gosta de futebol e política',  # Texto com palavras proibidas\n",
    "    'A praia foi divertida',  # Texto sem palavras proibidas\n",
    "]\n",
    "\n",
    "# Loop para verificar cada texto\n",
    "for i, texto in enumerate(textos, 1):\n",
    "    # Divide o texto em palavras, coloca tudo em minúsculas e verifica a interseção com as palavras proibidas\n",
    "    intersecao = PALAVRAS_PROIBIDAS.intersection(set(texto.lower().split()))\n",
    "    \n",
    "    # Se houver palavras proibidas no texto, exibe essas palavras\n",
    "    if intersecao:\n",
    "        # Exibe as palavras proibidas encontradas no texto\n",
    "        print(f'Texto {i} contém palavras proibidas, palavras: {\", \".join(intersecao)}')\n",
    "    else:\n",
    "        # Caso contrário, considera o texto autorizado\n",
    "        print(f'Texto {i} está OK')\n"
   ]
  }
 ],
 "metadata": {
  "kernelspec": {
   "display_name": "Python 3",
   "language": "python",
   "name": "python3"
  },
  "language_info": {
   "codemirror_mode": {
    "name": "ipython",
    "version": 3
   },
   "file_extension": ".py",
   "mimetype": "text/x-python",
   "name": "python",
   "nbconvert_exporter": "python",
   "pygments_lexer": "ipython3",
   "version": "3.12.8"
  }
 },
 "nbformat": 4,
 "nbformat_minor": 5
}
