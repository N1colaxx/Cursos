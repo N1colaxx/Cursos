{
 "cells": [
  {
   "cell_type": "markdown",
   "id": "89b8da13",
   "metadata": {},
   "source": [
    "## Estruturas de Controle em Python\n",
    "\n",
    "Vamos explorar as principais estruturas de controle em Python:\n"
   ]
  },
  {
   "cell_type": "markdown",
   "id": "854e931a",
   "metadata": {},
   "source": [
    "#### 1. If-else (Condicional)\n",
    "\n",
    "Funcionamento: Avalia condições em ordem e executa o bloco correspondente à primeira condição verdadeira."
   ]
  },
  {
   "cell_type": "code",
   "execution_count": null,
   "id": "05df7f1d",
   "metadata": {},
   "outputs": [],
   "source": [
    "idade = 18\n",
    "\n",
    "if idade < 12:\n",
    "    print(\"Criança\")\n",
    "elif idade < 18:\n",
    "    print(\"Adolescente\")\n",
    "else:\n",
    "    print(\"Adulto\")"
   ]
  },
  {
   "cell_type": "markdown",
   "id": "9c688fb5",
   "metadata": {},
   "source": [
    "Características especiais:\n",
    "\n",
    "-   O elif é uma contração de \"else if\"\n",
    "\n",
    "-   Pode ter quantos elif forem necessários\n",
    "\n",
    "-   O else é opcional"
   ]
  },
  {
   "cell_type": "markdown",
   "id": "dc4dfa70",
   "metadata": {},
   "source": [
    "***\n",
    "\n",
    "#### 2. While (Loop com condição)\n",
    "\n",
    "Funcionamento: Repete um bloco enquanto uma condição for verdadeira.\n"
   ]
  },
  {
   "cell_type": "code",
   "execution_count": null,
   "id": "fd573bde",
   "metadata": {},
   "outputs": [],
   "source": [
    "# Exemplo com contador\n",
    "contador = 0\n",
    "while contador < 3:\n",
    "    print(f\"Contagem: {contador}\")\n",
    "    contador += 1\n",
    "\n",
    "# Exemplo com flag\n",
    "ativo = True\n",
    "while ativo:\n",
    "    resposta = input(\"Deseja continuar? (s/n): \")\n",
    "    if resposta.lower() == 'n':\n",
    "        ativo = False"
   ]
  },
  {
   "cell_type": "markdown",
   "id": "12f524a5",
   "metadata": {},
   "source": [
    "Cuidados:\n",
    "\n",
    "-   Evite loops infinitos (certifique-se que a condição eventualmente se torne falsa)\n",
    "\n",
    "-   Pode usar break para sair antecipadamente"
   ]
  },
  {
   "cell_type": "markdown",
   "id": "6274e544",
   "metadata": {},
   "source": [
    "***\n",
    "\n",
    "#### 3. For (Loop iterativo)\n",
    "\n",
    "Funcionamento: Itera sobre os elementos de uma sequência (lista, string, dicionário, etc.)"
   ]
  },
  {
   "cell_type": "code",
   "execution_count": null,
   "id": "7bdfb768",
   "metadata": {},
   "outputs": [],
   "source": [
    "# Iterando em lista\n",
    "cores = ['vermelho', 'verde', 'azul']\n",
    "for cor in cores:\n",
    "    print(cor.upper())\n",
    "\n",
    "# Iterando com índice\n",
    "for indice, cor in enumerate(cores):\n",
    "    print(f\"{indice}: {cor}\")\n",
    "\n",
    "# Iterando em dicionário\n",
    "pessoa = {'nome': 'João', 'idade': 30}\n",
    "for chave, valor in pessoa.items():\n",
    "    print(f\"{chave}: {valor}\")"
   ]
  },
  {
   "cell_type": "markdown",
   "id": "d6fb2ab3",
   "metadata": {},
   "source": [
    "Função range():"
   ]
  },
  {
   "cell_type": "code",
   "execution_count": null,
   "id": "056e99fe",
   "metadata": {},
   "outputs": [],
   "source": [
    "# range(início, fim, passo)\n",
    "for i in range(0, 10, 2):  # Números pares de 0 a 8\n",
    "    print(i)"
   ]
  },
  {
   "cell_type": "markdown",
   "id": "aa00b0f7",
   "metadata": {},
   "source": [
    "***\n",
    "\n",
    "#### 4. Break e Continue"
   ]
  },
  {
   "cell_type": "markdown",
   "id": "cd2fd098",
   "metadata": {},
   "source": [
    "Break: Interrompe imediatamente o loop mais interno"
   ]
  },
  {
   "cell_type": "code",
   "execution_count": null,
   "id": "9b04fb68",
   "metadata": {},
   "outputs": [],
   "source": [
    "# Encontrar o primeiro número divisível por 7\n",
    "for num in range(1, 100):\n",
    "    if num % 7 == 0:\n",
    "        print(f\"Encontrado: {num}\")\n",
    "        break"
   ]
  },
  {
   "cell_type": "markdown",
   "id": "7ad07125",
   "metadata": {},
   "source": [
    "Continue: Pula para a próxima iteração do loop"
   ]
  },
  {
   "cell_type": "code",
   "execution_count": null,
   "id": "af55d634",
   "metadata": {},
   "outputs": [],
   "source": [
    "# Imprimir apenas números ímpares\n",
    "for num in range(10):\n",
    "    if num % 2 == 0:\n",
    "        continue\n",
    "    print(num)"
   ]
  },
  {
   "cell_type": "markdown",
   "id": "25a710f3",
   "metadata": {},
   "source": [
    "***\n",
    "\n",
    "#### 5. Switch (em Python 3.10+ usando match-case)\n",
    "\n",
    "Alternativa moderna ao switch-case:"
   ]
  },
  {
   "cell_type": "code",
   "execution_count": null,
   "id": "ed726f96",
   "metadata": {},
   "outputs": [],
   "source": [
    "def avaliar_resposta(resposta):\n",
    "    match resposta.lower():\n",
    "        case 'sim' | 's':\n",
    "            return \"Positivo\"\n",
    "        case 'não' | 'n':\n",
    "            return \"Negativo\"\n",
    "        case _:\n",
    "            return \"Resposta inválida\"\n",
    "\n",
    "print(avaliar_resposta('Sim'))  # Positivo"
   ]
  },
  {
   "cell_type": "markdown",
   "id": "d73193a1",
   "metadata": {},
   "source": [
    "Vantagens:\n",
    "\n",
    "-   Comparação mais poderosa que simples igualdade\n",
    "\n",
    "-   Pode desestruturar padrões\n",
    "\n",
    "-   Mais legível que múltiplos if-elif"
   ]
  },
  {
   "cell_type": "markdown",
   "id": "c64e0ddf",
   "metadata": {},
   "source": [
    "***\n",
    "\n",
    "#### 6. For-Else\n",
    "\n",
    "Funcionamento: O bloco else executa apenas se o loop terminar normalmente (sem break)\n",
    "\n"
   ]
  },
  {
   "cell_type": "code",
   "execution_count": null,
   "id": "8e3bd130",
   "metadata": {},
   "outputs": [],
   "source": [
    "# Verificar se um número é primo\n",
    "num = 13\n",
    "for i in range(2, num):\n",
    "    if num % i == 0:\n",
    "        print(f\"{num} não é primo\")\n",
    "        break\n",
    "else:\n",
    "    print(f\"{num} é primo\")"
   ]
  },
  {
   "cell_type": "markdown",
   "id": "7c3621a2",
   "metadata": {},
   "source": [
    "For sem Else:\n"
   ]
  },
  {
   "cell_type": "code",
   "execution_count": null,
   "id": "41a71c0a",
   "metadata": {},
   "outputs": [],
   "source": [
    "# O else é opcional no for\n",
    "for letra in \"Python\":\n",
    "    print(letra)"
   ]
  },
  {
   "cell_type": "markdown",
   "id": "19878782",
   "metadata": {},
   "source": [
    "***\n",
    "\n",
    "#### 7. While-Else\n",
    "\n",
    "Funciona de forma similar ao for-else:"
   ]
  },
  {
   "cell_type": "code",
   "execution_count": null,
   "id": "d79cbdad",
   "metadata": {},
   "outputs": [],
   "source": [
    "tentativas = 3\n",
    "senha_correta = \"1234\"\n",
    "\n",
    "while tentativas > 0:\n",
    "    senha = input(\"Digite sua senha: \")\n",
    "    if senha == senha_correta:\n",
    "        print(\"Acesso concedido!\")\n",
    "        break\n",
    "    tentativas -= 1\n",
    "else:\n",
    "    print(\"Acesso bloqueado!\")"
   ]
  },
  {
   "cell_type": "markdown",
   "id": "bda2c9f2",
   "metadata": {},
   "source": [
    "***\n",
    "\n",
    "#### Observações:\n",
    "\n",
    "> ⚠️ **Importante:** Em Python, a indentação (espaço antes do código) é obrigatória para definir blocos de código. O padrão é usar 4 espaços por nível.\n",
    "\n",
    "> 💡 O `else` em loops **não é executado se o loop for interrompido com `break`**.\n"
   ]
  },
  {
   "cell_type": "markdown",
   "id": "a86b508d",
   "metadata": {},
   "source": [
    "<br>\n",
    "\n",
    "***\n",
    "\n",
    "<br>\n",
    "\n",
    "### Desafio: Operadores Aritméticos\n",
    "\n",
    "Qual o percentual das despesas em relação ao salário?\n",
    "\n",
    "\n",
    "salario = 3450.45\n",
    "\n",
    "despesas = 2456.2\n",
    "\n"
   ]
  },
  {
   "cell_type": "markdown",
   "id": "d0e1032c",
   "metadata": {},
   "source": [
    "Resposta:\n"
   ]
  },
  {
   "cell_type": "code",
   "execution_count": 3,
   "id": "b61673e5",
   "metadata": {},
   "outputs": [
    {
     "data": {
      "text/plain": [
       "71.18"
      ]
     },
     "execution_count": 3,
     "metadata": {},
     "output_type": "execute_result"
    }
   ],
   "source": [
    "salario = 3450.45\n",
    "despesas = 2456.2\n",
    "\n",
    "percentual_comprometido = despesas / salario * 100  # Calcula o percentual das despesas em relação ao salário\n",
    "\n",
    "# Formatando o resultado para 2 casas decimais\n",
    "percentual_formatado = round(percentual_comprometido, 2)\n",
    "percentual_formatado  # Exibe o percentual com 2 casas decimais\n"
   ]
  }
 ],
 "metadata": {
  "kernelspec": {
   "display_name": "Python 3",
   "language": "python",
   "name": "python3"
  },
  "language_info": {
   "codemirror_mode": {
    "name": "ipython",
    "version": 3
   },
   "file_extension": ".py",
   "mimetype": "text/x-python",
   "name": "python",
   "nbconvert_exporter": "python",
   "pygments_lexer": "ipython3",
   "version": "3.12.8"
  }
 },
 "nbformat": 4,
 "nbformat_minor": 5
}
