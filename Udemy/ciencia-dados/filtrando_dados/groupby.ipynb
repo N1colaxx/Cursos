{
 "cells": [
  {
   "cell_type": "code",
   "execution_count": null,
   "id": "ae39e842-70c3-4e68-aff3-a3ba2d7b830f",
   "metadata": {},
   "outputs": [],
   "source": []
  }
 ],
 "metadata": {
  "kernelspec": {
   "display_name": "",
   "name": ""
  },
  "language_info": {
   "name": ""
  }
 },
 "nbformat": 4,
 "nbformat_minor": 5
}
