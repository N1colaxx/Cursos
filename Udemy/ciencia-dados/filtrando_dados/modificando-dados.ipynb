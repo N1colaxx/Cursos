{
 "cells": [
  {
   "cell_type": "code",
   "execution_count": null,
   "id": "a9544733-8a48-41bc-9a9a-ad10891daf54",
   "metadata": {},
   "outputs": [],
   "source": [
    "import pandas as pd\n",
    "\n",
    "import re\n",
    "\n",
    "df = pd.read_csv('db-suplementos.csv')\n",
    "\n",
    "df"
   ]
  },
  {
   "cell_type": "code",
   "execution_count": null,
   "id": "22b8d8cb-9b41-4934-a800-cd7c20b7b82e",
   "metadata": {},
   "outputs": [],
   "source": [
    "# df.loc[df['Location'] == 'USA', 'Location'] = 'BR' #  troquei de USA para BR\n",
    "\n",
    "df.loc[(df['Location'] == 'UK') & (df['Discount'] <= 0.01), 'Discount'] = 0.25\n",
    "\n",
    "df"
   ]
  }
 ],
 "metadata": {
  "kernelspec": {
   "display_name": "Python [conda env:base] *",
   "language": "python",
   "name": "conda-base-py"
  },
  "language_info": {
   "codemirror_mode": {
    "name": "ipython",
    "version": 3
   },
   "file_extension": ".py",
   "mimetype": "text/x-python",
   "name": "python",
   "nbconvert_exporter": "python",
   "pygments_lexer": "ipython3",
   "version": "3.12.7"
  }
 },
 "nbformat": 4,
 "nbformat_minor": 5
}
