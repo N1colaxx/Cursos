{
 "cells": [
  {
   "cell_type": "code",
   "execution_count": null,
   "id": "9c1bda77-d3d2-4d4f-bbbe-d13c6ab55382",
   "metadata": {},
   "outputs": [],
   "source": [
    "import pandas as pd"
   ]
  },
  {
   "cell_type": "code",
   "execution_count": null,
   "id": "eaec8e5f-834f-4826-8b08-f160db1b1e65",
   "metadata": {},
   "outputs": [],
   "source": [
    "dados = pd.read_csv('Fifa.csv')\n",
    "\n",
    "dados"
   ]
  },
  {
   "cell_type": "code",
   "execution_count": null,
   "id": "3549ecd6-b0a9-4e31-addf-3990bb6b8db3",
   "metadata": {
    "scrolled": true
   },
   "outputs": [],
   "source": [
    "dados.tail(8)"
   ]
  },
  {
   "cell_type": "code",
   "execution_count": 96,
   "id": "24b7c6ec-a781-4bc3-8c46-d0d1071bbd80",
   "metadata": {
    "scrolled": true
   },
   "outputs": [
    {
     "data": {
      "text/plain": [
       "Index(['Unnamed: 0', 'ID', 'Name', 'Age', 'Photo', 'Nationality', 'Flag',\n",
       "       'Overall', 'Potential', 'Club', 'Club Logo', 'Value', 'Wage', 'Special',\n",
       "       'Preferred Foot', 'International Reputation', 'Weak Foot',\n",
       "       'Skill Moves', 'Work Rate', 'Body Type', 'Real Face', 'Position',\n",
       "       'Jersey Number', 'Joined', 'Loaned From', 'Contract Valid Until',\n",
       "       'Height', 'Weight', 'LS', 'ST', 'RS', 'LW', 'LF', 'CF', 'RF', 'RW',\n",
       "       'LAM', 'CAM', 'RAM', 'LM', 'LCM', 'CM', 'RCM', 'RM', 'LWB', 'LDM',\n",
       "       'CDM', 'RDM', 'RWB', 'LB', 'LCB', 'CB', 'RCB', 'RB', 'Crossing',\n",
       "       'Finishing', 'HeadingAccuracy', 'ShortPassing', 'Volleys', 'Dribbling',\n",
       "       'Curve', 'FKAccuracy', 'LongPassing', 'BallControl', 'Acceleration',\n",
       "       'SprintSpeed', 'Agility', 'Reactions', 'Balance', 'ShotPower',\n",
       "       'Jumping', 'Stamina', 'Strength', 'LongShots', 'Aggression',\n",
       "       'Interceptions', 'Positioning', 'Vision', 'Penalties', 'Composure',\n",
       "       'Marking', 'StandingTackle', 'SlidingTackle', 'GKDiving', 'GKHandling',\n",
       "       'GKKicking', 'GKPositioning', 'GKReflexes', 'Release Clause'],\n",
       "      dtype='object')"
      ]
     },
     "execution_count": 96,
     "metadata": {},
     "output_type": "execute_result"
    }
   ],
   "source": [
    "dados.columns\n"
   ]
  },
  {
   "cell_type": "code",
   "execution_count": null,
   "id": "89ff99eb-1ee2-4e6a-a982-6c093e75dffb",
   "metadata": {
    "scrolled": true
   },
   "outputs": [],
   "source": [
    "dados.index\n",
    "\n",
    "# dados['Name']\n",
    "\n",
    "dados[['Name', 'Wage', 'Nationality']]"
   ]
  },
  {
   "cell_type": "code",
   "execution_count": null,
   "id": "056fe32d-149c-402a-aa80-e97ddf76edd0",
   "metadata": {},
   "outputs": [],
   "source": [
    "dados.iloc[0:4] # pesquisa do index 0 ao 4\n",
    "\n",
    "dados.iloc[2,2] # pequisa por linha -> Cluna\n"
   ]
  },
  {
   "cell_type": "code",
   "execution_count": null,
   "id": "7c5c7569-6261-44d3-a6bd-402e59a25042",
   "metadata": {},
   "outputs": [],
   "source": [
    "# dados.columns\n",
    "\n",
    "# dados.Nationality\n",
    "\n",
    "# dados.loc[dados['Nationality'] == 'Brazil']\n",
    "\n",
    "dados.loc[dados['Age'] == 41]"
   ]
  },
  {
   "cell_type": "code",
   "execution_count": null,
   "id": "e75f4623-b22b-4f46-b657-184c502119f9",
   "metadata": {},
   "outputs": [],
   "source": [
    "# dados.sort_values(['Name', 'Age'])\n",
    "\n",
    "# dados.sort_values(['Name', 'Age'], ascending = False)\n",
    "\n",
    "dados.sort_values(['Weight'])"
   ]
  }
 ],
 "metadata": {
  "kernelspec": {
   "display_name": "Python [conda env:base] *",
   "language": "python",
   "name": "conda-base-py"
  },
  "language_info": {
   "codemirror_mode": {
    "name": "ipython",
    "version": 3
   },
   "file_extension": ".py",
   "mimetype": "text/x-python",
   "name": "python",
   "nbconvert_exporter": "python",
   "pygments_lexer": "ipython3",
   "version": "3.12.7"
  }
 },
 "nbformat": 4,
 "nbformat_minor": 5
}
