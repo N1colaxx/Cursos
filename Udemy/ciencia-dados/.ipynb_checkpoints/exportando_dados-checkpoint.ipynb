{
 "cells": [
  {
   "cell_type": "code",
   "execution_count": null,
   "id": "a4dec065-e3ae-4cd6-ae52-9930503f9c6f",
   "metadata": {},
   "outputs": [],
   "source": [
    "import pandas as pd"
   ]
  },
  {
   "cell_type": "code",
   "execution_count": null,
   "id": "187e59c6-9431-417d-81be-5d43e604c333",
   "metadata": {},
   "outputs": [],
   "source": [
    "#  Antes de ler o DB verifique se ele esta na mesma pasta \n",
    "dados = pd.read_csv('Fifa.csv')"
   ]
  },
  {
   "cell_type": "code",
   "execution_count": null,
   "id": "8e78c96d-cd6f-44d3-be73-93c28e189e68",
   "metadata": {},
   "outputs": [],
   "source": [
    "dados['Total'] = dados['Acceleration'] + dados['Agility'] + dados['Reactions']\n",
    "    "
   ]
  },
  {
   "cell_type": "code",
   "execution_count": null,
   "id": "f638fda6-fbed-4622-a6e7-6682087d7f71",
   "metadata": {},
   "outputs": [],
   "source": [
    "dados = dados[['Name', 'Total']]\n",
    "\n",
    "dados.sort_values\n"
   ]
  },
  {
   "cell_type": "code",
   "execution_count": null,
   "id": "7ec45aba-397e-4c9b-b20e-9bc882781d78",
   "metadata": {},
   "outputs": [],
   "source": [
    "dados.to_csv('dados1.csv', index = False)"
   ]
  },
  {
   "cell_type": "code",
   "execution_count": null,
   "id": "c0b556fd-36e0-4d43-b7a8-865efdfad7d8",
   "metadata": {},
   "outputs": [],
   "source": [
    "dados.to_excel('dados2.xlsx', index = False)"
   ]
  },
  {
   "cell_type": "code",
   "execution_count": null,
   "id": "2a6bf3db-be43-4f24-8be1-7e19bcd79f4a",
   "metadata": {},
   "outputs": [],
   "source": [
    "dados.to_csv('dados3.txt', index = False, sep='\\t')"
   ]
  }
 ],
 "metadata": {
  "kernelspec": {
   "display_name": "Python [conda env:base] *",
   "language": "python",
   "name": "conda-base-py"
  },
  "language_info": {
   "codemirror_mode": {
    "name": "ipython",
    "version": 3
   },
   "file_extension": ".py",
   "mimetype": "text/x-python",
   "name": "python",
   "nbconvert_exporter": "python",
   "pygments_lexer": "ipython3",
   "version": "3.12.7"
  }
 },
 "nbformat": 4,
 "nbformat_minor": 5
}
